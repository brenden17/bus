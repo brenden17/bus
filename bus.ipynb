{
 "metadata": {
  "name": "",
  "signature": "sha256:bd680efb3f13aad854b92cdd3fc3d499e320b6a5f5f70e012975f751b62d2d2a"
 },
 "nbformat": 3,
 "nbformat_minor": 0,
 "worksheets": [
  {
   "cells": [
    {
     "cell_type": "markdown",
     "metadata": {},
     "source": [
      "## \ubc84\uc2a4 \uc815\ubcf4 \uac00\uc838\uc624\uae30"
     ]
    },
    {
     "cell_type": "code",
     "collapsed": false,
     "input": [
      "import urllib2, urllib\n",
      "import json\n",
      "\n",
      "def get_businfo(busno):\n",
      "    parameters = {}\n",
      "    parameters['strSrch'] = busno\n",
      "    target = 'http://m.bus.go.kr/mBus/bus/getBusRouteList.bms'\n",
      "\n",
      "    parameters = urllib.urlencode(parameters)\n",
      "    \n",
      "    while True:\n",
      "        handler = urllib2.urlopen(target, parameters)\n",
      "        if handler.code < 400:\n",
      "            f = handler.read()\n",
      "            j = json.loads(f.decode('cp949'))\n",
      "            try:\n",
      "                return j[\"resultList\"][0][\"busRouteId\"]\n",
      "            except:\n",
      "                return None\n",
      "\n",
      "def get_busroute(busno):\n",
      "    routeid = get_businfo(busno)\n",
      "    if not routeid:\n",
      "        return \n",
      "    parameters = {}\n",
      "    parameters['busRouteId'] = routeid\n",
      "    target = 'http://m.bus.go.kr/mBus/bus/getRouteAndPos.bms'\n",
      "    \n",
      "    parameters = urllib.urlencode(parameters)\n",
      "    \n",
      "    while True:\n",
      "        handler = urllib2.urlopen(target, parameters)\n",
      "        if handler.code < 400:\n",
      "            f = handler.read()\n",
      "            j = json.loads(f.decode('cp949'))\n",
      "            routes = j[\"resultList\"]\n",
      "            for route in routes:\n",
      "                busRouteNm = route['busRouteNm']\n",
      "                busRouteId = route['busRouteId']\n",
      "                stationNm = route['stationNm']\n",
      "                stationNo = route['stationNo']\n",
      "                x = route['gpsX']\n",
      "                y = route['gpsY']\n",
      "                l = '\\t'.join([busRouteNm, busRouteId, stationNo, stationNm, x, y])\n",
      "                # l = '\\t'.join(list(route.values()))\n",
      "                print(l.encode('utf-8'))\n",
      "            break\n",
      "\n",
      "def get_busroute_keys(busno):\n",
      "    routeid = get_businfo(busno)\n",
      "    parameters = {}\n",
      "    parameters['busRouteId'] = routeid\n",
      "    target = 'http://m.bus.go.kr/mBus/bus/getRouteAndPos.bms'\n",
      "    \n",
      "    parameters = urllib.urlencode(parameters)\n",
      "    \n",
      "    while True:\n",
      "        handler = urllib2.urlopen(target, parameters)\n",
      "        if handler.code < 400:\n",
      "            f = handler.read()\n",
      "            j = json.loads(f.decode('cp949'))\n",
      "            route = j[\"resultList\"][0]\n",
      "            print(','.join(list(route.keys())))\n",
      "            break\n",
      "            \n",
      "def main():\n",
      "#     get_busroute_keys('0017')\n",
      "#     print('busno, busid, stationid, stationnm, x, y')\n",
      "    busnos = ['0017', '0018', '1014', '1017', '1020', '1111', '1113', '1114', '1115', '1117', '1119', '1120', '1122', '1124', '1126', '1127', '1128', '1129', '1130', '1131', '1132', '1133', '1135', '1136', '1137', '1138', '1139', '1140',  '1141',  '1142', '1143', '1144', '1146', '1152', '1154', '1155', '1156', '1157', '1161', '1162', '1164', '1165', '1166', '1212', '1213', '1215', '1218', '1221', '1222', '1224', '1225', '1226', '1227', '1711', '2012', '2013', '2014', '2015', '2016', '2112', '2113', '2114', '2211', '2220', '2221', '2222', '2223', '2224', '2227', '2230', '2233', '2234', '2235', '2411', '2412', '2413', '2415', '3011', '3212', '3214', '3215', '3216', '3217', '3219', '3220', '3313', '3314', '3315', '3316', '3317', '3318', '3319', '3411', '3412', '3413', '3414', '3416', '3417', '3418', '3422', '3423', '4212', '4318', '4319', '4412', '4419', '4425', '4426', '4429', '4430', '4431', '4432', '4433', '4434', '5012', '5413', '5511', '5513', '5515', '5516', '5517', '5519', '5523', '5524', '5525', '5526', '5528', '5530', '5531', '5534', '5535', '5536', '5537', '5538', '5612', '5615', '5616', '5617', '5618', '5619', '5620', '5621', '5623', '5624', '5625', '5626', '5627', '5630', '5633', '5712', '5713', '5714', '6211', '6411', '6511', '6512', '6513', '6514', '6515', '6611', '6613', '6614', '6616', '6617', '6618', '6620', '6623', '6624', '6625', '6627', '6628', '6629', '6630', '6631', '6632', '6635', '6637', '6638', '6640', '6641', '6642', '6643', '6645', '6646', '6647', '6648', '6649', '6650', '6651', '6653', '6654', '6657', '6712', '6714', '6715', '6716', '7011', '7013A', '7013B', '7016', '7017', '7018', '7019', '7021', '7022', '7024', '7025', '7211', '7212', '7611', '7612', '7613', '7711', '7713', '7715', '7719', '7720', '7722', '7723', '7726', '7727', '7728', '7730', '7733', '7737', '7738']\n",
      "    for busno in busnos:\n",
      "        get_busroute(busno)\n",
      "\n",
      "# if __name__ == '__main__':\n",
      "#     main()"
     ],
     "language": "python",
     "metadata": {},
     "outputs": [],
     "prompt_number": 23
    },
    {
     "cell_type": "markdown",
     "metadata": {},
     "source": [
      "## google map \ud30c\uc77c \ucd9c\ub825"
     ]
    },
    {
     "cell_type": "code",
     "collapsed": false,
     "input": [
      "from string import Template\n",
      "\n",
      "colors = [\"FF0000\", \"00FF00\", \"0000FF\", \"FFFF00\", \"FF00FF\", \"00FFFF\", \"000000\",\n",
      "        \"800000\", \"008000\", \"000080\", \"808000\", \"800080\", \"008080\", \"808080\",\n",
      "        \"C00000\", \"00C000\", \"0000C0\", \"C0C000\", \"C000C0\", \"00C0C0\", \"C0C0C0\",\n",
      "        \"400000\", \"004000\", \"000040\", \"404000\", \"400040\", \"004040\", \"404040\",\n",
      "        \"200000\", \"002000\", \"000020\", \"202000\", \"200020\", \"002020\", \"202020\",\n",
      "        \"600000\", \"006000\", \"000060\", \"606000\", \"600060\", \"006060\", \"606060\",\n",
      "        \"A00000\", \"00A000\", \"0000A0\", \"A0A000\", \"A000A0\", \"00A0A0\", \"A0A0A0\",\n",
      "        \"E00000\", \"00E000\", \"0000E0\", \"E0E000\", \"E000E0\", \"00E0E0\", \"E0E0E0\"]\n",
      "\n",
      "def generate_busstops(df):\n",
      "    coos = ',\\n'.join(['new google.maps.LatLng(%s, %s)' %(r['y'] ,r['x']) for i, r in df.iterrows()])\n",
      "    return 'var busstops = [{0}];'.format(coos)\n",
      "\n",
      "def generate_polyline(valname, df, idx=0):\n",
      "    coos = ',\\n'.join(['new google.maps.LatLng(%s, %s)' %(r['y'] ,r['x']) for i, r in df.iterrows()])\n",
      "    valcoos =  'var {0} = [{1}];'.format(valname, coos)\n",
      "    \n",
      "    polyline_template = \"\"\"\n",
      "                        {0}\n",
      "                        var {1}_ = new google.maps.Polyline({{\n",
      "                        path: {1},\n",
      "                        strokeColor: \"#{2}\",\n",
      "                        strokeOpacity: 0.8,\n",
      "                        strokeWeight: 3\n",
      "                        }});\n",
      "                        {1}_.setMap(map);\"\"\"\n",
      "    \n",
      "    return polyline_template.format(valcoos, valname, colors[idx])\n",
      "    \n",
      "# data = {'busstops': busstops, 'busroutes':busroutes}\n",
      "def generate_template_html(data, outfilename='busmap.html'):\n",
      "    infile = open('map_temp.html')\n",
      "    template = Template(infile.read())\n",
      "    map_html = template.substitute(data)\n",
      "    outfile = open(outfilename, 'w')\n",
      "    outfile.write(map_html)\n"
     ],
     "language": "python",
     "metadata": {},
     "outputs": [],
     "prompt_number": 6
    },
    {
     "cell_type": "markdown",
     "metadata": {},
     "source": [
      "## \ubc84\uc2a4 \uc815\ubcf4 \uc77d\uae30\uc640 \ud544\ud130\ub9c1"
     ]
    },
    {
     "cell_type": "code",
     "collapsed": false,
     "input": [
      "import pandas as pd\n",
      "\n",
      "bus_df = pd.read_csv('bus.tsv', sep='\\t')\n",
      "\n",
      "mbus_df = bus_df[bus_df['stationid']!='0']\n",
      "mbus_df = mbus_df[mbus_df['stationid']!='\ubbf8\uc815\ucc28']\n",
      "mbus_df = mbus_df[mbus_df['stationid']!='35331']\n",
      "\n",
      "N_BUSSTOPS = 8\n",
      "\n",
      "stops = mbus_df['stationid'].value_counts()\n",
      "d = stops[stops > N_BUSSTOPS].index.values.tolist()\n",
      "mbus_df = mbus_df[mbus_df['stationid'].isin(d)]\n",
      "busstop_df = mbus_df.drop_duplicates(cols='stationid', take_last=True)\n",
      "# busstop_df"
     ],
     "language": "python",
     "metadata": {},
     "outputs": [],
     "prompt_number": 1
    },
    {
     "cell_type": "markdown",
     "metadata": {},
     "source": [
      "### \ud544\ud130\ub9c1 \ud55c \ubc84\uc2a4 \uc815\uac70\uc7a5 map\uc73c\ub85c \ucd9c\ub825"
     ]
    },
    {
     "cell_type": "code",
     "collapsed": false,
     "input": [
      "busstops = generate_busstops(busstop_df)\n",
      "busroutes = ''\n",
      "i = 0\n",
      "for idx, row in busstop_df.iterrows():\n",
      "    route = bus_df[bus_df['busno']==row['busno']]\n",
      "    busroutes += generate_polyline('poly' + str(i), route, i)\n",
      "    i += 1\n",
      "    \n",
      "data = {'busstops': busstops, 'busroutes': busroutes}\n",
      "generate_template_html(data)\n"
     ],
     "language": "python",
     "metadata": {},
     "outputs": [],
     "prompt_number": 101
    },
    {
     "cell_type": "markdown",
     "metadata": {},
     "source": [
      "## 24138 \ubc84\uc2a4 \uc815\uac70\uc7a5\uc5d0 \ub2e4\ub2c8\ub294 \ubc84\uc2a4 \n",
      "1. \ubc84\uc2a4 \uc815\uac70\uc7a5\uc5d0 \ub2e4\ub2c8\ub294 \ubc84\uc2a4\n",
      "2. \uac01 \ubc84\uc2a4\uc758 \ub178\uc120"
     ]
    },
    {
     "cell_type": "code",
     "collapsed": false,
     "input": [
      "#1 \ubc84\uc2a4 \uc815\uac70\uc7a5\uc5d0 \ub2e4\ub2c8\ub294 \ubc84\uc2a4\n",
      "\n",
      "import pandas as pd\n",
      "\n",
      "bus_df = pd.read_csv('bus.tsv', sep='\\t')\n",
      "\n",
      "mbus_df = bus_df[bus_df['stationid']!='0']\n",
      "mbus_df = mbus_df[mbus_df['stationid']!='\ubbf8\uc815\ucc28']\n",
      "mbus_df = mbus_df[mbus_df['stationid']!='35331']\n",
      "\n",
      "mbus_df = mbus_df[mbus_df['stationid']=='24138']\n",
      "station_df = mbus_df.drop_duplicates(cols='busno', take_last=True)"
     ],
     "language": "python",
     "metadata": {},
     "outputs": [],
     "prompt_number": 2
    },
    {
     "cell_type": "code",
     "collapsed": false,
     "input": [
      "#2 \uac01 \ubc84\uc2a4\uc758 \ub178\uc120\n",
      "\n",
      "busstops = generate_busstops(station_df.drop_duplicates(cols='stationid', take_last=True))\n",
      "busroutes = ''\n",
      "i = 0\n",
      "for idx, row in station_df.iterrows():\n",
      "    route = bus_df[bus_df['busno']==row['busno']]\n",
      "#     print(route)\n",
      "    busroutes += generate_polyline('poly' + str(i), route, i)\n",
      "    i += 1\n",
      "    \n",
      "data = {'busstops': busstops, 'busroutes': busroutes}\n",
      "generate_template_html(data, 'bus.html')"
     ],
     "language": "python",
     "metadata": {},
     "outputs": [],
     "prompt_number": 3
    },
    {
     "cell_type": "markdown",
     "metadata": {},
     "source": [
      "## \ubc84\uc2a4\uac00 \ub9ce\uc740 \uc815\ucc28\ud558\ub294 \ubc84\uc2a4 \uc815\uac70\uc7a5\uc744 \ud074\ub7ec\uc2a4\ub7ec\ub9c1\ud55c\ub2e4.\n",
      "1. \ubc84\uc2a4 \uc815\uac70\uc7a5 \uc120\ud0dd\n",
      "2. \uc2dc\uac01\ud654\n",
      "3. \ud074\ub7ec\uc2a4\ud130\ub9c1\n",
      "4. \ud074\ub7ec\uc2a4\ud130\ub9c1 \ud6c4 \uc2dc\uac01\ud654"
     ]
    },
    {
     "cell_type": "code",
     "collapsed": false,
     "input": [
      "#1 \ubc84\uc2a4 \uc815\uac70\uc7a5 \uc120\ud0dd\n",
      "\n",
      "import pandas as pd\n",
      "\n",
      "bus_df = pd.read_csv('bus.tsv', sep='\\t')\n",
      "\n",
      "mbus_df = bus_df[bus_df['stationid']!='0']\n",
      "mbus_df = mbus_df[mbus_df['stationid']!='\ubbf8\uc815\ucc28']\n",
      "mbus_df = mbus_df[mbus_df['stationid']!='35331']\n",
      "\n",
      "N_BUSSTOPS = 13\n",
      "\n",
      "stops = mbus_df['stationid'].value_counts()\n",
      "d = stops[stops > N_BUSSTOPS].index.values.tolist()\n",
      "mbus_df = mbus_df[mbus_df['stationid'].isin(d)]\n",
      "busstop_df = mbus_df.drop_duplicates(cols='stationid', take_last=True)\n",
      "# busstop_df\n"
     ],
     "language": "python",
     "metadata": {},
     "outputs": [],
     "prompt_number": 3
    },
    {
     "cell_type": "code",
     "collapsed": false,
     "input": [
      "#2 \uc2dc\uac01\ud654\n",
      "\n",
      "busstops = generate_busstops(busstop_df)\n",
      "busroutes = ''\n",
      "# i = 0\n",
      "# for idx, row in busstop_df.iterrows():\n",
      "#     route = bus_df[bus_df['busno']==row['busno']]\n",
      "#     busroutes += generate_polyline('poly' + str(i), route, i)\n",
      "#     i += 1\n",
      "    \n",
      "data = {'busstops': busstops, 'busroutes': busroutes}\n",
      "generate_template_html(data, 'busstop_origin.html')"
     ],
     "language": "python",
     "metadata": {},
     "outputs": [],
     "prompt_number": 7
    },
    {
     "cell_type": "code",
     "collapsed": false,
     "input": [
      "#3 \ud074\ub7ec\uc2a4\ud130\ub9c1\n",
      "\n",
      "from sklearn.cluster import KMeans\n",
      "from sklearn import metrics\n",
      "\n",
      "print(busstop_df.head())\n",
      "X = busstop_df[['x', 'y']]\n",
      "y = busstop_df['busno']\n",
      "cluster_range = range(2, 15)\n",
      "vmeasures = []\n",
      "\n",
      "for n_cluster in cluster_range:\n",
      "\n",
      "    # km = KMeans(n_clusters=7, init='random', max_iter=100, n_init=1, verbose=1)\n",
      "    km = KMeans(init='k-means++', n_clusters=n_cluster, n_init=10)\n",
      "\n",
      "#     print \"Clustering sparse data with %s\" % km\n",
      "    km.fit(X)\n",
      "#     print '----------------------------------------------------'\n",
      "#     print n_cluster\n",
      "#     print \"Homogeneity: %0.3f\" % metrics.homogeneity_score(y, km.labels_)\n",
      "#     print \"Completeness: %0.3f\" % metrics.completeness_score(y, km.labels_)\n",
      "#     print \"V-measure: %0.3f\" % metrics.v_measure_score(y, km.labels_)\n",
      "#     print \"Adjusted Rand-Index: %.3f\" % metrics.adjusted_rand_score(y, km.labels_)\n",
      "#     vmeasures.append(metrics.v_measure_score(y, km.labels_))\n",
      "    vmeasures.append(metrics.silhouette_score(X, km.labels_, metric='euclidean'))\n",
      "    \n",
      "import matplotlib.pyplot as plt\n",
      "plt.plot(cluster_range, vmeasures)\n",
      "    \n",
      "plt.xlabel('# cluster')\n",
      "plt.ylabel('v measure')\n",
      "plt.autoscale(tight=True)\n",
      "plt.grid()\n",
      "plt.show()\n"
     ],
     "language": "python",
     "metadata": {},
     "outputs": [
      {
       "output_type": "stream",
       "stream": "stdout",
       "text": [
        "     busno    busid stationid   stationnm           x          y\n",
        "2555  1222  4122200     08146     \uc11d\uacc4\uc5ed\uad74\ub2e4\ub9ac\uc55e  127.065797  37.614331\n",
        "3463  2114  4211400     11312  \ud55c\uc9c4\ud55c\ud654\uadf8\ub791\ube4c\uc544\ud30c\ud2b8  127.069232  37.615805\n",
        "3464  2114  4211400     11284     \uc11d\uacc4\uc5ed2\ubc88\ucd9c\uad6c  127.066973  37.615274\n",
        "3466  2114  4211400     08147         \uc11d\uacc4\uc5ed  127.067255  37.615003\n",
        "3496  2114  4211400     11283   \uc11d\uacc4\uc5ed1\ubc88\ucd9c\uad6c.A  127.064989  37.614919\n",
        "\n",
        "[5 rows x 6 columns]\n"
       ]
      },
      {
       "metadata": {},
       "output_type": "display_data",
       "png": "[encoded data removed]",
       "text": [
        "<matplotlib.figure.Figure at 0x3ebf210>"
       ]
      }
     ],
     "prompt_number": 17
    },
    {
     "cell_type": "code",
     "collapsed": false,
     "input": [
      "#4 \ud074\ub7ec\uc2a4\ud130\ub9c1 \ud6c4 \uc2dc\uac01\ud654\n",
      "best_clusters = 10\n",
      "km = KMeans(init='k-means++', n_clusters=best_clusters, n_init=10)\n",
      "km.fit(X)\n",
      "# print km.cluster_centers_\n",
      "centers = pd.DataFrame(km.cluster_centers_, columns=['x', 'y'])\n",
      "\n",
      "busstops = generate_busstops(centers)\n",
      "busroutes = ''\n",
      "# i = 0\n",
      "# for idx, row in busstop_df.iterrows():\n",
      "#     route = bus_df[bus_df['busno']==row['busno']]\n",
      "#     busroutes += generate_polyline('poly' + str(i), route, i)\n",
      "#     i += 1\n",
      "    \n",
      "data = {'busstops': busstops, 'busroutes': busroutes}\n",
      "generate_template_html(data, 'busstop_cluster_centers.html')"
     ],
     "language": "python",
     "metadata": {},
     "outputs": [],
     "prompt_number": 19
    },
    {
     "cell_type": "markdown",
     "metadata": {},
     "source": [
      "### DBSCAN\ub85c \uc774\uc0c1\uce58\uc778 \ud640\ub85c \ub5a8\uc5b4\uc9c4 \ube48\ub3c4\uc218 \ub192\uc740 \ubc84\uc2a4 \uc815\uac70\uc7a5 \ucc3e\uae30\n",
      "1. DBSCAN\ub85c \uc774\uc0c1\uce58 \ucc3e\uae30\n",
      "2. \uc2dc\uac01\ud654"
     ]
    },
    {
     "cell_type": "code",
     "collapsed": false,
     "input": [
      "#1. DBSCAN\ub85c \uc774\uc0c1\uce58 \ucc3e\uae30\n",
      "from collections import namedtuple\n",
      "\n",
      "from sklearn.preprocessing import MinMaxScaler, StandardScaler, Normalizer\n",
      "from sklearn.cluster import DBSCAN\n",
      "\n",
      "X['sx'] = X.x\n",
      "X['sy'] = X.y\n",
      "\n",
      "ss = StandardScaler()\n",
      "X['sx'] = ss.fit_transform(X.sx)\n",
      "X['sy'] = ss.fit_transform(X.sy)\n",
      "# print(X)\n",
      "\n",
      "Param = namedtuple('Param', ['eps', 'min_samples'])\n",
      "params = [Param(0.45, 2), Param(0.30, 2), Param(0.35, 2), Param(0.40, 2), \n",
      "            Param(0.45, 4), Param(0.30, 4), Param(0.35, 4), Param(0.40, 4), \n",
      "            Param(0.45, 3), Param(0.30, 3), Param(0.35, 3), Param(0.40, 3)]\n",
      "# print(X.values)\n",
      "for param in params:\n",
      "    dbscan = DBSCAN(eps=param.eps, min_samples=param.min_samples).fit(X[['sx', 'sy']].values)\n",
      "    labels = dbscan.labels_\n",
      "    outliers = X[labels == -1]\n",
      "    \n",
      "    print(param)\n",
      "#     print(labels)\n",
      "    print(outliers)\n",
      "#     print(\"V-measure: %0.3f\" % metrics.v_measure_score(y, labels))\n",
      "    print(metrics.silhouette_score(X, labels, metric='euclidean'))\n",
      "\n",
      "# busstops = generate_busstops(outliers)\n",
      "# busroutes = ''\n",
      "    \n",
      "# data = {'busstops': busstops, 'busroutes': busroutes}\n",
      "# generate_template_html(data, 'busstop_cluster_outlier.html')"
     ],
     "language": "python",
     "metadata": {},
     "outputs": [
      {
       "output_type": "stream",
       "stream": "stdout",
       "text": [
        "Param(eps=0.45, min_samples=2)\n",
        "                x          y        sx        sy\n",
        "11401  126.801262  37.565235 -1.773647  1.086223\n",
        "\n",
        "[1 rows x 4 columns]\n",
        "0.578956767951\n",
        "Param(eps=0.3, min_samples=2)\n",
        "                x          y        sx        sy\n",
        "4102   127.103897  37.613367  2.066672  2.076246\n",
        "11401  126.801262  37.565235 -1.773647  1.086223\n",
        "11542  126.837665  37.508486 -1.311701 -0.081022\n",
        "\n",
        "[3 rows x 4 columns]\n",
        "0.569195243662"
       ]
      },
      {
       "output_type": "stream",
       "stream": "stdout",
       "text": [
        "\n",
        "Param(eps=0.35, min_samples=2)\n",
        "                x          y        sx        sy\n",
        "4102   127.103897  37.613367  2.066672  2.076246\n",
        "11401  126.801262  37.565235 -1.773647  1.086223\n",
        "11542  126.837665  37.508486 -1.311701 -0.081022\n",
        "\n",
        "[3 rows x 4 columns]\n",
        "0.557622991947"
       ]
      },
      {
       "output_type": "stream",
       "stream": "stdout",
       "text": [
        "\n",
        "Param(eps=0.4, min_samples=2)\n",
        "                x          y        sx        sy\n",
        "4102   127.103897  37.613367  2.066672  2.076246\n",
        "11401  126.801262  37.565235 -1.773647  1.086223\n",
        "\n",
        "[2 rows x 4 columns]\n",
        "0.559847187262"
       ]
      },
      {
       "output_type": "stream",
       "stream": "stdout",
       "text": [
        "\n",
        "Param(eps=0.45, min_samples=4)\n",
        "                x          y        sx        sy\n",
        "11401  126.801262  37.565235 -1.773647  1.086223\n",
        "\n",
        "[1 rows x 4 columns]\n",
        "0.578956767951\n",
        "Param(eps=0.3, min_samples=4)"
       ]
      },
      {
       "output_type": "stream",
       "stream": "stdout",
       "text": [
        "\n",
        "                x          y        sx        sy\n",
        "4102   127.103897  37.613367  2.066672  2.076246\n",
        "10823  126.865104  37.523940 -0.963517  0.236850\n",
        "10828  126.873444  37.524927 -0.857686  0.257150\n",
        "10869  126.866428  37.516298 -0.946719  0.079653\n",
        "11401  126.801262  37.565235 -1.773647  1.086223\n",
        "11542  126.837665  37.508486 -1.311701 -0.081022\n",
        "\n",
        "[6 rows x 4 columns]\n",
        "0.538119913613\n",
        "Param(eps=0.35, min_samples=4)\n",
        "                x          y        sx        sy\n",
        "4102   127.103897  37.613367  2.066672  2.076246\n",
        "11401  126.801262  37.565235 -1.773647  1.086223\n",
        "11542  126.837665  37.508486 -1.311701 -0.081022\n",
        "\n",
        "[3 rows x 4 columns]"
       ]
      },
      {
       "output_type": "stream",
       "stream": "stdout",
       "text": [
        "\n",
        "0.557622991947\n",
        "Param(eps=0.4, min_samples=4)\n",
        "                x          y        sx        sy\n",
        "4102   127.103897  37.613367  2.066672  2.076246\n",
        "11401  126.801262  37.565235 -1.773647  1.086223\n",
        "\n",
        "[2 rows x 4 columns]\n",
        "0.559847187262"
       ]
      },
      {
       "output_type": "stream",
       "stream": "stdout",
       "text": [
        "\n",
        "Param(eps=0.45, min_samples=3)\n",
        "                x          y        sx        sy\n",
        "11401  126.801262  37.565235 -1.773647  1.086223\n",
        "\n",
        "[1 rows x 4 columns]\n",
        "0.578956767951\n",
        "Param(eps=0.3, min_samples=3)"
       ]
      },
      {
       "output_type": "stream",
       "stream": "stdout",
       "text": [
        "\n",
        "                x          y        sx        sy\n",
        "4102   127.103897  37.613367  2.066672  2.076246\n",
        "11401  126.801262  37.565235 -1.773647  1.086223\n",
        "11542  126.837665  37.508486 -1.311701 -0.081022\n",
        "\n",
        "[3 rows x 4 columns]\n",
        "0.569195243662\n",
        "Param(eps=0.35, min_samples=3)"
       ]
      },
      {
       "output_type": "stream",
       "stream": "stdout",
       "text": [
        "\n",
        "                x          y        sx        sy\n",
        "4102   127.103897  37.613367  2.066672  2.076246\n",
        "11401  126.801262  37.565235 -1.773647  1.086223\n",
        "11542  126.837665  37.508486 -1.311701 -0.081022\n",
        "\n",
        "[3 rows x 4 columns]\n",
        "0.557622991947\n",
        "Param(eps=0.4, min_samples=3)\n",
        "                x          y        sx        sy\n",
        "4102   127.103897  37.613367  2.066672  2.076246\n",
        "11401  126.801262  37.565235 -1.773647  1.086223\n",
        "\n",
        "[2 rows x 4 columns]"
       ]
      },
      {
       "output_type": "stream",
       "stream": "stdout",
       "text": [
        "\n",
        "0.559847187262\n"
       ]
      },
      {
       "output_type": "stream",
       "stream": "stderr",
       "text": [
        "-c:11: SettingWithCopyWarning: A value is trying to be set on a copy of a slice from a DataFrame.\n",
        "Try using .loc[row_index,col_indexer] = value instead\n",
        "-c:12: SettingWithCopyWarning: A value is trying to be set on a copy of a slice from a DataFrame.\n",
        "Try using .loc[row_index,col_indexer] = value instead\n"
       ]
      }
     ],
     "prompt_number": 20
    },
    {
     "cell_type": "code",
     "collapsed": false,
     "input": [
      "#2 \uc2dc\uac01\ud654\n",
      "best_param = Param(eps=0.3, min_samples=3)\n",
      "dbscan = DBSCAN(eps=best_param.eps, min_samples=best_param.min_samples).fit(X[['sx', 'sy']].values)\n",
      "labels = dbscan.labels_\n",
      "outliers = X[labels == -1]\n",
      "\n",
      "busstops = generate_busstops(outliers)\n",
      "busroutes = ''\n",
      "    \n",
      "data = {'busstops': busstops, 'busroutes': busroutes}\n",
      "generate_template_html(data, 'busstop_cluster_outlier.html')"
     ],
     "language": "python",
     "metadata": {},
     "outputs": [],
     "prompt_number": 22
    }
   ],
   "metadata": {}
  }
 ]
}